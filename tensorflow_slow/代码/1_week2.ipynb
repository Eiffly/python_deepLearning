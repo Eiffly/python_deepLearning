{
 "cells": [
  {
   "cell_type": "markdown",
   "id": "925a0473",
   "metadata": {},
   "source": [
    "# lesson1 week2"
   ]
  },
  {
   "cell_type": "markdown",
   "id": "431fed5c",
   "metadata": {},
   "source": [
    "## 1.用空间复杂度换取时间复杂度"
   ]
  },
  {
   "cell_type": "code",
   "execution_count": 4,
   "id": "71ab5c70",
   "metadata": {},
   "outputs": [
    {
     "name": "stdout",
     "output_type": "stream",
     "text": [
      "[1 2 3 4]\n"
     ]
    }
   ],
   "source": [
    "import  numpy as np\n",
    "\n",
    "a=np.array([1,2,3,4])\n",
    "print(a)"
   ]
  },
  {
   "cell_type": "code",
   "execution_count": 24,
   "id": "eb5d9774",
   "metadata": {},
   "outputs": [
    {
     "name": "stdout",
     "output_type": "stream",
     "text": [
      "249730.676549846\n",
      "Vectorized version:0.9915828704833984ms\n",
      "249730.6765498442\n",
      "For loop:588.4613990783691ms\n"
     ]
    }
   ],
   "source": [
    "import time #导入时间库\n",
    "a = np.random.rand(1000000)\n",
    "b = np.random.rand(1000000) #通过round随机得到两个一百万维度的数组\n",
    "tic = time.time() #现在测量一下当前时间\n",
    "\n",
    "#向量化的版本\n",
    "c = np.dot(a,b)\n",
    "toc = time.time()\n",
    "print(c)\n",
    "print(\"Vectorized version:\" + str(1000*(toc-tic)) +\"ms\") #打印一下向量化的版本的时间\n",
    "\n",
    "#继续增加非向量化的版本\n",
    "c = 0\n",
    "tic = time.time()\n",
    "for i in range(1000000):\n",
    "    c += a[i]*b[i]\n",
    "toc = time.time()\n",
    "print(c)\n",
    "print(\"For loop:\" + str(1000*(toc-tic)) + \"ms\")#打印for循环的版本的时间"
   ]
  },
  {
   "cell_type": "markdown",
   "id": "48314e39",
   "metadata": {},
   "source": [
    "## 2.广播机制"
   ]
  },
  {
   "cell_type": "code",
   "execution_count": 11,
   "id": "85663561",
   "metadata": {},
   "outputs": [
    {
     "name": "stdout",
     "output_type": "stream",
     "text": [
      "[[ 56.    0.    4.4  68. ]\n",
      " [  1.2 102.   52.    8. ]\n",
      " [  1.8 135.   99.    0.9]]\n"
     ]
    }
   ],
   "source": [
    "import numpy as np\n",
    "A=np.array([\n",
    "    [56.0,0.0,4.4,68.0],\n",
    "    [1.2,102.0,52.0,8.0],\n",
    "    [1.8,135.0,99.0,0.9]\n",
    "])\n",
    "print(A)"
   ]
  },
  {
   "cell_type": "code",
   "execution_count": 12,
   "id": "bbbe03e5",
   "metadata": {},
   "outputs": [
    {
     "name": "stdout",
     "output_type": "stream",
     "text": [
      "[ 59.  237.  155.4  76.9]\n"
     ]
    }
   ],
   "source": [
    "cal=A.sum(axis=0) #axis=0 表示的是竖向相加\n",
    "print(cal)"
   ]
  },
  {
   "cell_type": "code",
   "execution_count": 17,
   "id": "98211f77",
   "metadata": {},
   "outputs": [
    {
     "name": "stdout",
     "output_type": "stream",
     "text": [
      "[[0.94915254 0.         0.02831403 0.88426528]\n",
      " [0.02033898 0.43037975 0.33462033 0.10403121]\n",
      " [0.03050847 0.56962025 0.63706564 0.01170351]]\n"
     ]
    }
   ],
   "source": [
    "print(A/cal.reshape(1,4)) #这里的reshape可加可不加"
   ]
  },
  {
   "cell_type": "code",
   "execution_count": 22,
   "id": "126a05e7",
   "metadata": {},
   "outputs": [
    {
     "name": "stdout",
     "output_type": "stream",
     "text": [
      "[[101 102 103]\n",
      " [104 105 106]]\n",
      "############\n",
      "[[101 202 303]\n",
      " [104 205 306]]\n",
      "############\n",
      "[[101 102 103]\n",
      " [204 205 206]]\n"
     ]
    }
   ],
   "source": [
    "B=np.array([\n",
    "    [1,2,3],\n",
    "    [4,5,6],\n",
    "])\n",
    "C=100\n",
    "print(B+C)\n",
    "print(\"############\")\n",
    "B=np.array([\n",
    "    [1,2,3],\n",
    "    [4,5,6],\n",
    "])\n",
    "C=[100,200,300]\n",
    "print(B+C)\n",
    "print(\"############\")\n",
    "B=np.array([\n",
    "    [1,2,3],\n",
    "    [4,5,6],\n",
    "])\n",
    "C=[[100],[200]]\n",
    "print(B+C)"
   ]
  },
  {
   "cell_type": "markdown",
   "id": "9af5d585",
   "metadata": {},
   "source": [
    "## 3.广播机制"
   ]
  },
  {
   "cell_type": "code",
   "execution_count": 37,
   "id": "272e8dc8",
   "metadata": {},
   "outputs": [
    {
     "name": "stdout",
     "output_type": "stream",
     "text": [
      "[-1.75029942  0.32400892  0.50432349  0.41262847  0.58807641] (5,) [-1.75029942  0.32400892  0.50432349  0.41262847  0.58807641]\n",
      "[[-0.57093251]\n",
      " [-0.94384091]\n",
      " [-1.38145624]\n",
      " [-0.74570431]\n",
      " [-0.22009018]] (5, 1) [[-0.57093251 -0.94384091 -1.38145624 -0.74570431 -0.22009018]]\n",
      "arr version: 3.938968152052318\n",
      "vec version: [[0.32596393 0.53886946 0.78871827 0.42574683 0.12565664]\n",
      " [0.53886946 0.89083567 1.30387492 0.70382624 0.20773012]\n",
      " [0.78871827 1.30387492 1.90842135 1.03015787 0.30404495]\n",
      " [0.42574683 0.70382624 1.03015787 0.55607492 0.1641222 ]\n",
      " [0.12565664 0.20773012 0.30404495 0.1641222  0.04843969]]\n"
     ]
    }
   ],
   "source": [
    "arr1=np.random.randn(5)  #秩为1的数组\n",
    "vec1=np.random.randn(5,1) #一个列向量\n",
    "print(arr1,arr1.shape,arr1.T)\n",
    "print(vec1,vec1.shape,vec1.T)\n",
    "print(\"arr version:\",np.dot(arr1,arr1.T))\n",
    "print(\"vec version:\",np.dot(vec1,vec1.T))"
   ]
  },
  {
   "cell_type": "code",
   "execution_count": 46,
   "id": "d369d429",
   "metadata": {},
   "outputs": [],
   "source": [
    "# 最好是加上断言函数，减少一些不必要的bug\n",
    "# assert(arr1.shape== (5,1)) #会报错\n",
    "assert(vec1.shape== (5,1)) "
   ]
  }
 ],
 "metadata": {
  "kernelspec": {
   "display_name": "Python 3 (ipykernel)",
   "language": "python",
   "name": "python3"
  },
  "language_info": {
   "codemirror_mode": {
    "name": "ipython",
    "version": 3
   },
   "file_extension": ".py",
   "mimetype": "text/x-python",
   "name": "python",
   "nbconvert_exporter": "python",
   "pygments_lexer": "ipython3",
   "version": "3.9.7"
  }
 },
 "nbformat": 4,
 "nbformat_minor": 5
}
