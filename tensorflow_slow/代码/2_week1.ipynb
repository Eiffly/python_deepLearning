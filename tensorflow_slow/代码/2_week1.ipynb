{
 "cells": [
  {
   "cell_type": "code",
   "execution_count": 2,
   "id": "89565514",
   "metadata": {
    "scrolled": true
   },
   "outputs": [
    {
     "name": "stdout",
     "output_type": "stream",
     "text": [
      "[[-0.02146424]\n",
      " [ 0.69833023]\n",
      " [ 0.30825922]\n",
      " [ 0.06722775]\n",
      " [-0.87480704]]\n"
     ]
    }
   ],
   "source": [
    "import  numpy as np\n",
    "\n",
    "a3=np.random.randn(5,1)\n",
    "print(a3)"
   ]
  },
  {
   "cell_type": "code",
   "execution_count": 3,
   "id": "1ec384e1",
   "metadata": {
    "scrolled": true
   },
   "outputs": [
    {
     "name": "stdout",
     "output_type": "stream",
     "text": [
      "[[0.37548556]\n",
      " [0.33612011]\n",
      " [0.79730368]\n",
      " [0.99878049]\n",
      " [0.82204526]]\n"
     ]
    }
   ],
   "source": [
    "d3 = np.random.rand(a3.shape[0],a3.shape[1])\n",
    "print(d3)"
   ]
  },
  {
   "cell_type": "markdown",
   "id": "3d115517",
   "metadata": {},
   "source": [
    "# 将隐藏层中的单元按照概率随机置零"
   ]
  },
  {
   "cell_type": "code",
   "execution_count": 9,
   "id": "66e056a7",
   "metadata": {},
   "outputs": [
    {
     "name": "stdout",
     "output_type": "stream",
     "text": [
      "[[ True]\n",
      " [ True]\n",
      " [ True]\n",
      " [False]\n",
      " [ True]]\n"
     ]
    }
   ],
   "source": [
    "keep_prob=0.8\n",
    "d3 = np.random.rand(a3.shape[0],a3.shape[1])<keep_prob\n",
    "print(d3)"
   ]
  },
  {
   "cell_type": "markdown",
   "id": "d05d62e9",
   "metadata": {},
   "source": [
    "# 第三层中获取激活函数"
   ]
  },
  {
   "cell_type": "code",
   "execution_count": 11,
   "id": "de4a49b8",
   "metadata": {},
   "outputs": [
    {
     "name": "stdout",
     "output_type": "stream",
     "text": [
      "[[-0.02146424]\n",
      " [ 0.69833023]\n",
      " [ 0.30825922]\n",
      " [ 0.        ]\n",
      " [-0.87480704]]\n"
     ]
    }
   ],
   "source": [
    "a3=np.multiply(a3,d3)\n",
    "print(a3)"
   ]
  },
  {
   "cell_type": "markdown",
   "id": "ac1e931f",
   "metadata": {},
   "source": [
    "# 为了不影响期望值，进行数据的还原"
   ]
  },
  {
   "cell_type": "code",
   "execution_count": 12,
   "id": "1334510a",
   "metadata": {},
   "outputs": [
    {
     "name": "stdout",
     "output_type": "stream",
     "text": [
      "[[-0.0268303 ]\n",
      " [ 0.87291279]\n",
      " [ 0.38532403]\n",
      " [ 0.        ]\n",
      " [-1.0935088 ]]\n"
     ]
    }
   ],
   "source": [
    "a3/=keep_prob\n",
    "print(a3)"
   ]
  }
 ],
 "metadata": {
  "kernelspec": {
   "display_name": "Python 3 (ipykernel)",
   "language": "python",
   "name": "python3"
  },
  "language_info": {
   "codemirror_mode": {
    "name": "ipython",
    "version": 3
   },
   "file_extension": ".py",
   "mimetype": "text/x-python",
   "name": "python",
   "nbconvert_exporter": "python",
   "pygments_lexer": "ipython3",
   "version": "3.9.7"
  }
 },
 "nbformat": 4,
 "nbformat_minor": 5
}
